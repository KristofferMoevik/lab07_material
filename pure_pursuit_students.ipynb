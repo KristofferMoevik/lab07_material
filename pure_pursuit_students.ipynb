{
 "cells": [
  {
   "cell_type": "markdown",
   "metadata": {},
   "source": [
    "# Laboratory 07\n",
    "Motion Planning and Control using Pure Pursuit"
   ]
  },
  {
   "cell_type": "code",
   "execution_count": 3,
   "metadata": {},
   "outputs": [],
   "source": [
    "# Utility functions for pure pursuit solution\n",
    "import sympy\n",
    "from sympy import symbols, Matrix\n",
    "from utils import pi2pi\n",
    "#%matplotlib widget\n",
    "from matplotlib import pyplot as plt\n",
    "import numpy as np"
   ]
  },
  {
   "cell_type": "markdown",
   "metadata": {},
   "source": [
    "---\n",
    "## Objective\n",
    "\n",
    "- Implement the Pure Pursuit algorithm in a Python script\n",
    "- Run a path following simulation with the implemented script\n",
    "- Understand the limitations of the Pure Pursuit algorithm\n",
    "\n"
   ]
  },
  {
   "cell_type": "markdown",
   "metadata": {},
   "source": [
    "---\n",
    "## Mathematical Models\n",
    "\n",
    "### Differential drive Motion Model\n",
    "\n",
    "Using the SymPy library implement the Differential drive Motion Model that is explained in the lecture slides. For clearness the main equation of the model is reported below.\\\n",
    "In the robot frame the motion model is given by:\n",
    "\n",
    "$$\n",
    "\\begin{pmatrix} x' \\\\ y' \\\\ \\theta' \\end{pmatrix} = g(u_t,x_{t-1}) = \n",
    "\\begin{pmatrix} x \\\\ y \\\\ \\theta \\end{pmatrix} + \n",
    "\\begin{pmatrix} v_t\\cos{\\theta} \\Delta t \\\\ v_t\\sin{\\theta} \\Delta t \\\\ \\omega_t \\Delta t\n",
    "\\end{pmatrix} \n",
    "$$\n",
    "  \n",
    "  where $v_t$ and $\\omega_t$ are the linear and angular velocities of the robot, respectively."
   ]
  },
  {
   "cell_type": "code",
   "execution_count": 6,
   "metadata": {},
   "outputs": [],
   "source": [
    "x, y, theta, v, w, dt = symbols('x y theta v w dt')\n",
    "gux = Matrix([\n",
    "    x + (v * sympy.cos(theta) * dt), \n",
    "    y + (v * sympy.sin(theta) * dt), \n",
    "    theta + (w * dt)\n",
    "])"
   ]
  },
  {
   "cell_type": "code",
   "execution_count": 7,
   "metadata": {},
   "outputs": [],
   "source": [
    "eval_gux = sympy.lambdify((x, y, theta, v, w, dt), gux, 'numpy')"
   ]
  },
  {
   "cell_type": "markdown",
   "metadata": {},
   "source": [
    "### Velocity update\n",
    "\n",
    "Using the SymPy library implement the velocity update function. For clearness the main equation of the model is reported below.\n",
    "\n",
    "$$\n",
    "v_{t} = f(v,a) = \n",
    "\\left(\n",
    "    v_{t-1} + a \\Delta t\n",
    "\\right)\n",
    "$$\n",
    "\n",
    "Write in the following cell the code to compute the update to the velocity. Remember to convert the symbolic functions to Python functions that can be evaluated as done in the previous step."
   ]
  },
  {
   "cell_type": "code",
   "execution_count": 8,
   "metadata": {},
   "outputs": [],
   "source": [
    "a, vt_1 = symbols(r'a v_{t-1}')\n",
    "fva = vt_1 + (a*dt)\n",
    "eval_fva = sympy.lambdify((vt_1, a, dt), fva, 'numpy')"
   ]
  },
  {
   "cell_type": "markdown",
   "metadata": {},
   "source": [
    "---\n",
    "## Robot Class\n",
    "\n",
    "Complete the `Robot` Class with the equations where you find the symbol `...`\n"
   ]
  },
  {
   "cell_type": "markdown",
   "metadata": {},
   "source": [
    "#### Robot Initialization\n",
    "\n",
    "In the function `__init__` the robot is initialized given the dimensions of the state `dim_x`, of the input `dim_u`."
   ]
  },
  {
   "cell_type": "code",
   "execution_count": 9,
   "metadata": {},
   "outputs": [],
   "source": [
    "import math\n",
    "import numpy as np\n",
    "\n",
    "\n",
    "class Robot:\n",
    "    def __init__(\n",
    "        self, dim_x=1, dim_u=1, eval_gux=None, eval_fva=None\n",
    "    ):\n",
    "        \"\"\"\n",
    "        Initialize the robot creating the necessary matrices\n",
    "        \"\"\"\n",
    "        self.x = np.zeros((dim_x, 1))  # state variables\n",
    "        self.u = np.zeros((dim_u, 1))  # control variables\n",
    "        \n",
    "        self.eval_gux = eval_gux\n",
    "        self.eval_fva = eval_fva\n",
    "\n",
    "        # Robot properties\n",
    "        self.max_linear_velocity = 0.22 # m/s\n",
    "        self.max_angular_velocity = 1.5 # rad/s\n",
    "        self.max_acceleration = 0.5 # m/s^2\n",
    "\n",
    "    @property\n",
    "    def v(self):\n",
    "        return self.u[0, 0]\n",
    "    \n",
    "    @property\n",
    "    def w(self):\n",
    "        return self.u[1, 0]\n",
    "    "
   ]
  },
  {
   "cell_type": "markdown",
   "metadata": {},
   "source": [
    "#### Robot update velocity\n",
    "\n",
    "Use the function `velocity_update` to compute the velocity update.\n",
    "\n",
    "$$\n",
    "v_{t} = f(v,a)\n",
    "$$\n",
    "\n",
    "Complete where you find the symbol `...` using the equations of motion."
   ]
  },
  {
   "cell_type": "code",
   "execution_count": 10,
   "metadata": {},
   "outputs": [],
   "source": [
    "def velocity_update(self, a, dt):\n",
    "    \"\"\"\n",
    "    Update the state of the robot using the control input u\n",
    "\n",
    "    Modified variables:\n",
    "    self.u: updated input\n",
    "    \"\"\"\n",
    "    # Update the state evauating the motion model\n",
    "    # Saturate the velocities with np.clip(value, min, max)\n",
    "    a = np.clip(a, -self.max_acceleration, self.max_acceleration) # saturate the acceleration \n",
    "    self.u[0] = self.eval_fva(self.u[0], a, dt)  # evaluate the velocity update\n",
    "    self.u[0] = np.clip(self.u[0], -self.max_linear_velocity, self.max_linear_velocity) # saturate the velocity\n",
    "    return self.u[0] \n",
    "    \n",
    "Robot.velocity_update = velocity_update"
   ]
  },
  {
   "cell_type": "markdown",
   "metadata": {},
   "source": [
    "#### Robot update state\n",
    "\n",
    "The function `update_state` implement the simulation step given an input velocity and a time interval.\n",
    "\n",
    "Complete where you find the symbol `...` using the equations of motion.\n",
    "\n",
    "$$\n",
    "\\begin{aligned}\n",
    "{x}_t =& g(u_t, x_{t-1}) \\\\\n",
    "\\end{aligned}\n",
    "$$"
   ]
  },
  {
   "cell_type": "code",
   "execution_count": 11,
   "metadata": {},
   "outputs": [],
   "source": [
    "def update_state(self, a, w, dt):\n",
    "    \"\"\"\n",
    "    Update the state of the robot using the control input u\n",
    "\n",
    "    Modified variables:\n",
    "    self.x: updated state\n",
    "    \"\"\"\n",
    "    w_ = np.clip(w, -self.max_angular_velocity, self.max_angular_velocity) # clip the angular velocity\n",
    "    v_ = self.velocity_update(a, dt) # update the velocity\n",
    "    # Update the state evauating the motion model\n",
    "    self.x = self.eval_gux(self.x[0], self.x[1], self.x[2], v, w, dt) # evaluate the motion model\n",
    "    self.x[2] = np.arctan2(np.sin(self.x[2]), np.cos(self.x[2]))  # normalize the orientation between [-pi, pi]\n",
    "Robot.update_state = update_state"
   ]
  },
  {
   "cell_type": "markdown",
   "metadata": {},
   "source": [
    "#### Input control (Proportional Controller)\n",
    "\n",
    "The function `proportional_control` implement the proportional controller to compute the acceleration given the current velocity and the target velocity.\n",
    "\n",
    "$$\n",
    "a = k_p \\left( v_{target} - v \\right)\n",
    "$$"
   ]
  },
  {
   "cell_type": "code",
   "execution_count": 12,
   "metadata": {},
   "outputs": [],
   "source": [
    "def proportional_control(v_target, v_current, kp=3.0):\n",
    "    \"\"\"\n",
    "    Compute the control input using proportional control law\n",
    "    a = kp * (v_target - v_current)\n",
    "\n",
    "    Args:\n",
    "    v_target: target velocity\n",
    "    v_current: current velocity\n",
    "\n",
    "    Return:\n",
    "    a: control input computed using proportional control\n",
    "    \"\"\"\n",
    "    a = kp * (v_target - v_current)\n",
    "    return a"
   ]
  },
  {
   "cell_type": "markdown",
   "metadata": {},
   "source": [
    "## Target Path\n",
    "\n",
    "The target trajectory is a complex path that is composed by a sequence of waypoints. The waypoints are defined in the following cell. The target trajectory is then generated using a spline interpolation between the waypoints and a function that compute the tangent to the spline.\n",
    "\n",
    "The target trajectory is then plotted in the following cell."
   ]
  },
  {
   "cell_type": "code",
   "execution_count": 13,
   "metadata": {},
   "outputs": [
    {
     "data": {
      "image/png": "[encoded data removed]",
      "text/plain": [
       "<Figure size 1000x1000 with 1 Axes>"
      ]
     },
     "metadata": {},
     "output_type": "display_data"
    }
   ],
   "source": [
    "from utils import interpolate_waypoints\n",
    "\n",
    "waypoints = np.array([\n",
    "    [0.0, 0.0],\n",
    "    [2.5, 2.5],\n",
    "    [0.0, 5.0],\n",
    "    [5.0, 5.0],\n",
    "    [2.5, 2.5],\n",
    "    [5.0, 0.0],\n",
    "    [0.0, 0.0],\n",
    "])\n",
    "\n",
    "\n",
    "\n",
    "interpolated_waypoints = interpolate_waypoints(waypoints, resolution=0.01)\n",
    "\n",
    "plt.figure(figsize=(10, 10))\n",
    "plt.plot(interpolated_waypoints[:, 0], interpolated_waypoints[:, 1], 'b')\n",
    "plt.plot(waypoints[:, 0], waypoints[:, 1], 'bo')\n",
    "plt.grid()\n",
    "plt.axis('equal')\n",
    "plt.xlabel('x')\n",
    "plt.ylabel('y')\n",
    "plt.show()"
   ]
  },
  {
   "cell_type": "markdown",
   "metadata": {},
   "source": [
    "## Pure Pursuit Algorithm\n",
    "\n",
    "The Pure Pursuit algorithm is implemented in the function `pure_pursuit_control` that takes as input the current state of the robot and the path to follow. The function returns the target velocity and the target angular velocity."
   ]
  },
  {
   "cell_type": "markdown",
   "metadata": {},
   "source": [
    "The algorithm is composed by the following steps:\n",
    "\n",
    "1. Compute the lookahead point on the path $p_l = (x_l, y_l)$\n",
    "2. Compute the target velocity $v_{target}$\n",
    "3. Compute the angular velocity $\\omega$"
   ]
  },
  {
   "cell_type": "code",
   "execution_count": 14,
   "metadata": {},
   "outputs": [],
   "source": [
    "class PurePursuitController:\n",
    "    def __init__(self, robot, path, pind, Lt, vt, *args,**kwargs):\n",
    "        \"\"\"\n",
    "        Initialize the controller using the robot and the path to track\n",
    "\n",
    "        Args:\n",
    "        robot: robot object\n",
    "        path: path to track\n",
    "        pind: index of the path to track\n",
    "        Lt: look ahead distance\n",
    "        \"\"\"\n",
    "\n",
    "        self.robot = robot # robot object\n",
    "        self.path = path # path to track\n",
    "        self.pind = pind # index of the path to track\n",
    "        self.Lt = Lt # look ahead distance\n",
    "        self.L_stop = self.Lt # distance to stop the robot\n",
    "        self.vt = vt # target velocity\n"
   ]
  },
  {
   "cell_type": "markdown",
   "metadata": {},
   "source": [
    "#### Compute the lookahead point on the path\n",
    "\n",
    "The lookahead point on the path is computed using the function `lookahead_point` that takes as input the current state of the robot and the path to follow. The function returns the lookahead point on the path."
   ]
  },
  {
   "cell_type": "code",
   "execution_count": 17,
   "metadata": {},
   "outputs": [],
   "source": [
    "def lookahead_point(self):\n",
    "    \"\"\"\n",
    "    Find the goal point on the path to the robot\n",
    "\n",
    "    Return:\n",
    "    goal_index: index of the goal point on the path to the robot\n",
    "    goal_point: goal point on the path\n",
    "    \"\"\"\n",
    "    index = self.pind # index of the point on the path currently tracked\n",
    "    while distance > self.Lt: # loop until the distance between the robot and the path is greater than the lookahead distance\n",
    "        distance = np.norm(np.array([self.robot.x[0], self.robot.x[1]]), np.array([self.path[self.pind][0], self.path[self.pind][1]])) # compute the distance between the robot and the path\n",
    "        if distance > self.Lt: # check for an exit condition of the loop (Hint use the distance and the lookahead distance)\n",
    "            break\n",
    "    if self.pind <= index: # check if the robot is behind the goal point\n",
    "        self.pind = index\n",
    "    goal_point = self.path[self.pind] # compute the goal point on the path\n",
    "    return index, goal_point \n",
    "PurePursuitController.lookahead_point = lookahead_point"
   ]
  },
  {
   "cell_type": "markdown",
   "metadata": {},
   "source": [
    "#### Compute the target velocity\n",
    "The target velocity is computed using the function `target_velocity` that takes as input the current state of the robot and the lookahead point on the path. The function returns the target velocity."
   ]
  },
  {
   "cell_type": "code",
   "execution_count": 19,
   "metadata": {},
   "outputs": [],
   "source": [
    "def target_velocity(self):\n",
    "    \"\"\"\n",
    "    Compute the target velocity for the robot\n",
    "    Hint: check the arrive to the final goal for stopping the robot\n",
    "\n",
    "    Return:\n",
    "    vt: target velocity\n",
    "    \"\"\"\n",
    "    dist_goal = np.norm(np.array([self.robot.x[0], self.robot.x[1]]), np.array([self.path[self.pind][0], self.path[self.pind][1]]))\n",
    "    # Check if the robot is close to the final goal\n",
    "    if self.L_stop > np.norm(np.array([self.robot.x[0], self.robot.x[1]]), np.array([self.path[-1][0], self.path[-1][1]])):\n",
    "        # Stop the robot\n",
    "        self.vt = 0\n",
    "    return self.vt\n",
    "PurePursuitController.target_velocity = target_velocity"
   ]
  },
  {
   "cell_type": "markdown",
   "metadata": {},
   "source": [
    "#### Compute the angular velocity\n",
    "\n",
    "The angular velocity is computed using the function `angular_velocity` that takes as input the current state of the robot, the closest point on the path to the robot and the lookahead point on the path. The function returns the angular velocity.\n"
   ]
  },
  {
   "cell_type": "code",
   "execution_count": null,
   "metadata": {},
   "outputs": [],
   "source": [
    "def angular_velocity(self):\n",
    "    \"\"\"\n",
    "    Compute the angular velocity for the robot\n",
    "\n",
    "    Modified variables:\n",
    "    self.kappa: curvature of the path at the goal point\n",
    "    Return:\n",
    "    w: angular velocity\n",
    "    \"\"\"\n",
    "    index, goal_point = self.lookahead_point()\n",
    "    unit_theta = np.array([np.cos(theta), np.sin(theta)])\n",
    "    vector_robot_to_goal = ...\n",
    "    alpha = ...\n",
    "    ty_r = ... # the lateral distance of the target in the robot frame\n",
    "    self.kappa = ... # the curvature\n",
    "    w = ... # the angular velocity\n",
    "    return w \n",
    "PurePursuitController.angular_velocity = angular_velocity"
   ]
  },
  {
   "cell_type": "code",
   "execution_count": null,
   "metadata": {},
   "outputs": [],
   "source": [
    "plt.ioff() # avoid to show the plot here\n",
    "# initialize the plot\n",
    "fig = plt.figure(figsize=(10, 10))\n",
    "ax1 = plt.gca()\n",
    "\n",
    "ax1.set_xlabel('x')\n",
    "ax1.set_ylabel('y')\n",
    "ax1.grid(True)\n",
    "ax1.set_xlim(np.min(interpolated_waypoints[:,0]) -1, np.max(interpolated_waypoints[:,0] + 1))\n",
    "ax1.set_ylim(np.min(interpolated_waypoints[:,1]) -1, np.max(interpolated_waypoints[:,1] + 1))\n",
    "ax1.plot(interpolated_waypoints[:, 0], interpolated_waypoints[:, 1] , 'b')\n",
    "ax1.plot(waypoints[:, 0], waypoints[:, 1] , 'bo')\n",
    "\n",
    "# create the objects to plot the robot and the path that will be updated during the simulation\n",
    "txt_title = ax1.set_title(\"Pure Pursuit Controller\")\n",
    "\n",
    "\n",
    "robot_line, = ax1.plot([], [], '.g')\n",
    "lookahead_pt, = ax1.plot([], [], '.r')\n",
    "turtl_sh, = ax1.plot([], [], 'black')\n",
    "rw_sh, = ax1.plot([], [], 'black')\n",
    "lw_sh, = ax1.plot([], [], 'black')\n",
    "plt.ion()"
   ]
  },
  {
   "cell_type": "markdown",
   "metadata": {},
   "source": [
    "## Simulator\n",
    "\n",
    "The following function implements a simple simulator that you can use to test the PurePursuit. It deals with three tasks:\n",
    "\n",
    "- **simulate the robot** evaluating the motion model with a time resolution defined by the parameter `sim_step`\n",
    "- **run the pure pursuit algorithm** to compute the target velocity and angular velocity\n",
    "- **plot** the simulated robot and the target trajectory\n",
    "\n",
    "Complete the functions where you find `...`"
   ]
  },
  {
   "cell_type": "code",
   "execution_count": null,
   "metadata": {},
   "outputs": [],
   "source": [
    "from utils import RobotStates\n",
    "\n",
    "def run_simulation(\n",
    "    initial_state,\n",
    "    target_vel,\n",
    "    controller_dt,\n",
    "    Lt,\n",
    "    kp=0.5,\n",
    "    sim_step=0.1,\n",
    "    sim_length=120\n",
    "):\n",
    "    turtlebot = Robot(\n",
    "        dim_x=3, dim_u=2, eval_gux=eval_gux, eval_fva=eval_fva)\n",
    "    turtlebot.x = initial_state # set the initial state\n",
    "    turtlebot.u = np.array([[0.0], [0.0]]) # set the initial input\n",
    "\n",
    "    path = interpolated_waypoints # the path\n",
    "    controller = PurePursuitController(turtlebot, path, 0, Lt, target_vel) # create the controller object\n",
    "\n",
    "    # convert the durations to number of time steps\n",
    "    steps = int(sim_length / sim_step)\n",
    "    controller_step = int(controller_dt / sim_step)\n",
    "    time = 0.0 # initial time\n",
    "    \n",
    "    states = RobotStates() # create the object to store the states\n",
    "    states.append(time, controller.pind , turtlebot, a=0.0) # store the initial state\n",
    "\n",
    "\n",
    "    # The main loop that runs the simulation\n",
    "    for i in range(steps):\n",
    "        time += sim_step\n",
    "        # Control the robot using the pure pursuit controller\n",
    "        if i % controller_step == 0:\n",
    "            a = ... # compute the control input\n",
    "            w = ... # compute the angular velocity\n",
    "        # Update the robot state\n",
    "        turtlebot.update_state(a, w, sim_step)\n",
    "        states.append(time ,controller.pind, turtlebot, a)\n",
    "    return states"
   ]
  },
  {
   "cell_type": "markdown",
   "metadata": {},
   "source": [
    "---\n",
    "\n",
    "## Run the simulation\n",
    "Here it an example of how to run the simulation. \n",
    "- Create a vector of initial states\n",
    "- Call the function that run the simulation passing all the arguments\n",
    "\n",
    "To test if your code is working properly, run the code below without changing parameters. The expected output is reported below.\n",
    "\n",
    "\n",
    "![Expected Output](./expected_output.gif)"
   ]
  },
  {
   "cell_type": "code",
   "execution_count": null,
   "metadata": {},
   "outputs": [],
   "source": [
    "# set the seed to get the same results every time\n",
    "np.random.seed(42)  # because it is the answer to the Ultimate Question of Life, The Universe and Everything :)\n",
    "\n",
    "# initial state\n",
    "initial_state = np.array([[0.0], [0.0], [1.570]])\n",
    "\n",
    "# simulation parameters\n",
    "sim_length = 120  # s\n",
    "sim_step = 0.1  # s\n",
    "\n",
    "# Parameters of the controller\n",
    "target_vel = 0.22  # m/s\n",
    "controller_dt = 0.5 # s\n",
    "Lt = 0.5  # m\n",
    "kp = 0.5  # proportional gain\n",
    "\n",
    "# run the simulation\n",
    "p_pur_states = run_simulation(\n",
    "    initial_state,\n",
    "    target_vel=target_vel,\n",
    "    controller_dt=controller_dt,\n",
    "    Lt=Lt,\n",
    "    kp=kp,\n",
    "    sim_step=sim_step,\n",
    "    sim_length=sim_length\n",
    "    )"
   ]
  },
  {
   "cell_type": "code",
   "execution_count": null,
   "metadata": {},
   "outputs": [],
   "source": [
    "from utils import draw_turtlebot\n",
    "from utils import turtlebot_C\n",
    "\n",
    "\n",
    "def simulation_step(n, p_pur_states):\n",
    "    \"\"\"\n",
    "    Simulate the robot and draw the frame for the animation\n",
    "    \"\"\"\n",
    "    # draw animation\n",
    "    robot_line.set_data([p_pur_states.x[n]], [p_pur_states.y[n]])\n",
    "    lookahead_pt.set_data(\n",
    "        [interpolated_waypoints[p_pur_states.pind[n], 0]], [interpolated_waypoints[p_pur_states.pind[n], 1]]\n",
    "    )\n",
    "    turtl, rw, lw = draw_turtlebot(p_pur_states.x[n], p_pur_states.y[n], p_pur_states.yaw[n], turtlebot_C)\n",
    "    turtl_sh.set_data(turtl[0, :], turtl[1, :])\n",
    "    rw_sh.set_data(rw[0, :], rw[1, :])\n",
    "    lw_sh.set_data(lw[0, :], lw[1, :])\n",
    "    txt_title.set_text(\"Pure Pursuit Controller, vel=%.2fm/s\" % p_pur_states.v[n])\n",
    "    return (robot_line, turtl_sh, rw_sh, lw_sh, txt_title)"
   ]
  },
  {
   "cell_type": "code",
   "execution_count": null,
   "metadata": {},
   "outputs": [],
   "source": [
    "from matplotlib import animation\n",
    "import functools\n",
    "\n",
    "# create the animation\n",
    "anim = animation.FuncAnimation(\n",
    "    fig, functools.partial(simulation_step, p_pur_states=p_pur_states), frames=range(0, len(p_pur_states), 5), blit=True, interval=100\n",
    ")\n",
    "plt.show()"
   ]
  },
  {
   "cell_type": "code",
   "execution_count": null,
   "metadata": {},
   "outputs": [],
   "source": [
    "# Change this to True to save the animation as a gif\n",
    "save = False\n",
    "if save:    \n",
    "    anim.save(\"pure_pursuit.gif\", fps=10)"
   ]
  },
  {
   "cell_type": "code",
   "execution_count": null,
   "metadata": {},
   "outputs": [],
   "source": [
    "plt.close('all')"
   ]
  }
 ],
 "metadata": {
  "kernelspec": {
   "display_name": "Python 3",
   "language": "python",
   "name": "python3"
  },
  "language_info": {
   "codemirror_mode": {
    "name": "ipython",
    "version": 3
   },
   "file_extension": ".py",
   "mimetype": "text/x-python",
   "name": "python",
   "nbconvert_exporter": "python",
   "pygments_lexer": "ipython3",
   "version": "3.8.10"
  }
 },
 "nbformat": 4,
 "nbformat_minor": 2
}
